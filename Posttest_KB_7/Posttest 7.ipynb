{
 "cells": [
  {
   "cell_type": "markdown",
   "id": "4351e262",
   "metadata": {},
   "source": [
    "## Nama : Muhammad Fajrianur\n",
    "## Nim    : 2009106040\n",
    "## Kelas : Informatika A 2020\n",
    "\n",
    "# Posttest_7"
   ]
  },
  {
   "cell_type": "code",
   "execution_count": 22,
   "id": "a7ee5f6f",
   "metadata": {},
   "outputs": [],
   "source": [
    "import tensorflow as tf"
   ]
  },
  {
   "cell_type": "markdown",
   "id": "d4b583d8",
   "metadata": {},
   "source": [
    "## Membuat tensor dengan shape(5,5) dengan nilai random yg di simpan dalam variable random_tensor"
   ]
  },
  {
   "cell_type": "code",
   "execution_count": 23,
   "id": "9b498cf6",
   "metadata": {},
   "outputs": [
    {
     "name": "stdout",
     "output_type": "stream",
     "text": [
      "tf.Tensor(\n",
      "[[-0.32386488  0.99133694  0.14024267  1.2573972   0.09992335]\n",
      " [ 0.18983224 -0.28711194 -1.7413595   1.8718754  -2.0104504 ]\n",
      " [-1.4673029  -1.2721989  -0.7803738   0.94073033 -0.06164822]\n",
      " [-2.0842526   0.61423135 -1.451092   -0.88693523 -0.96740866]\n",
      " [ 0.94831836 -0.6974499   0.5391437  -0.52970064 -2.0105364 ]], shape=(5, 5), dtype=float32)\n"
     ]
    }
   ],
   "source": [
    "random_tensor = tf.random.normal([5,5],mean=0,stddev=1,seed=1) \n",
    "print(random_tensor)"
   ]
  },
  {
   "cell_type": "markdown",
   "id": "ebb66734",
   "metadata": {},
   "source": [
    "## Membuat tensor dengan shape(5,5) dari sebuah list dengan nilai bilangan prima dalam variable"
   ]
  },
  {
   "cell_type": "code",
   "execution_count": 24,
   "id": "13b1dc5a",
   "metadata": {},
   "outputs": [
    {
     "data": {
      "text/plain": [
       "array([[ 2.,  3.,  5.,  7., 11.],\n",
       "       [13., 17., 19., 23., 29.],\n",
       "       [31., 37., 41., 43., 47.],\n",
       "       [53., 59., 61., 67., 71.],\n",
       "       [73., 79., 83., 89., 97.]], dtype=float32)"
      ]
     },
     "execution_count": 24,
     "metadata": {},
     "output_type": "execute_result"
    }
   ],
   "source": [
    "list = [[2,3,5,7,11],[13,17,19,23,29],[31,37,41,43,47],[53,59,61,67,71],[73,79,83,89,97]]\n",
    "prime_tensor = tf.convert_to_tensor(list, dtype=tf.float32)\n",
    "prime_tensor.numpy()"
   ]
  },
  {
   "cell_type": "markdown",
   "id": "58109865",
   "metadata": {},
   "source": [
    "## Menampilkan dimensi dari kedua variable tersebut"
   ]
  },
  {
   "cell_type": "code",
   "execution_count": 25,
   "id": "e6d0caf3",
   "metadata": {},
   "outputs": [
    {
     "data": {
      "text/plain": [
       "TensorShape([5, 5])"
      ]
     },
     "execution_count": 25,
     "metadata": {},
     "output_type": "execute_result"
    }
   ],
   "source": [
    "random_tensor.get_shape()"
   ]
  },
  {
   "cell_type": "code",
   "execution_count": 26,
   "id": "7c4959ab",
   "metadata": {},
   "outputs": [
    {
     "data": {
      "text/plain": [
       "TensorShape([5, 5])"
      ]
     },
     "execution_count": 26,
     "metadata": {},
     "output_type": "execute_result"
    }
   ],
   "source": [
    "random_tensor.shape"
   ]
  },
  {
   "cell_type": "markdown",
   "id": "0718d04e",
   "metadata": {},
   "source": [
    "## Menampilkan hasil dari perhitungan aritmetika 2 variable (penambah, pengurangan, pembagian, perkalian, pangkat, dan logaritma.)"
   ]
  },
  {
   "cell_type": "markdown",
   "id": "6705d01b",
   "metadata": {},
   "source": [
    "## Penambah"
   ]
  },
  {
   "cell_type": "code",
   "execution_count": 27,
   "id": "0c4ff2df",
   "metadata": {},
   "outputs": [
    {
     "name": "stdout",
     "output_type": "stream",
     "text": [
      "tf.Tensor(\n",
      "[[ 1.6761351  3.9913368  5.1402426  8.257397  11.099923 ]\n",
      " [13.189833  16.712889  17.25864   24.871876  26.98955  ]\n",
      " [29.532698  35.727802  40.219627  43.94073   46.93835  ]\n",
      " [50.91575   59.61423   59.54891   66.11307   70.03259  ]\n",
      " [73.94832   78.30255   83.53915   88.4703    94.98946  ]], shape=(5, 5), dtype=float32)\n"
     ]
    }
   ],
   "source": [
    "print(tf.add(random_tensor, prime_tensor))"
   ]
  },
  {
   "cell_type": "markdown",
   "id": "85e627e2",
   "metadata": {},
   "source": [
    "## Pengurangan"
   ]
  },
  {
   "cell_type": "code",
   "execution_count": 28,
   "id": "883e5d20",
   "metadata": {},
   "outputs": [
    {
     "name": "stdout",
     "output_type": "stream",
     "text": [
      "tf.Tensor(\n",
      "[[ -2.323865   -2.0086632  -4.8597574  -5.742603  -10.900077 ]\n",
      " [-12.810167  -17.287111  -20.74136   -21.128124  -31.01045  ]\n",
      " [-32.467304  -38.272198  -41.780373  -42.05927   -47.06165  ]\n",
      " [-55.08425   -58.38577   -62.45109   -67.88693   -71.96741  ]\n",
      " [-72.05168   -79.69745   -82.46085   -89.5297    -99.01054  ]], shape=(5, 5), dtype=float32)\n"
     ]
    }
   ],
   "source": [
    "print(tf.subtract(random_tensor, prime_tensor))"
   ]
  },
  {
   "cell_type": "markdown",
   "id": "8e5faf71",
   "metadata": {},
   "source": [
    "## Pembagian"
   ]
  },
  {
   "cell_type": "code",
   "execution_count": 29,
   "id": "1c4a4d0e",
   "metadata": {},
   "outputs": [
    {
     "name": "stdout",
     "output_type": "stream",
     "text": [
      "tf.Tensor(\n",
      "[[-0.16193244  0.33044565  0.02804853  0.17962816  0.00908394]\n",
      " [ 0.01460248 -0.01688894 -0.0916505   0.08138589 -0.06932587]\n",
      " [-0.04733235 -0.03438376 -0.01903351  0.02187745 -0.00131166]\n",
      " [-0.03932552  0.0104107  -0.02378839 -0.01323784 -0.01362547]\n",
      " [ 0.01299066 -0.00882848  0.00649571 -0.00595169 -0.02072718]], shape=(5, 5), dtype=float32)\n"
     ]
    }
   ],
   "source": [
    "print(tf.divide(random_tensor,prime_tensor))"
   ]
  },
  {
   "cell_type": "markdown",
   "id": "47512dac",
   "metadata": {},
   "source": [
    "## Perkalian"
   ]
  },
  {
   "cell_type": "code",
   "execution_count": 30,
   "id": "49866520",
   "metadata": {},
   "outputs": [
    {
     "name": "stdout",
     "output_type": "stream",
     "text": [
      "tf.Tensor(\n",
      "[[  -0.64772975    2.974011      0.70121336    8.801781      1.0991569 ]\n",
      " [   2.4678192    -4.880903    -33.08583      43.053135    -58.303062  ]\n",
      " [ -45.48639     -47.07136     -31.995327     40.451405     -2.8974664 ]\n",
      " [-110.465385     36.23965     -88.51661     -59.42466     -68.68601   ]\n",
      " [  69.22724     -55.098545     44.748924    -47.143356   -195.02203   ]], shape=(5, 5), dtype=float32)\n"
     ]
    }
   ],
   "source": [
    "print(tf.multiply(random_tensor, prime_tensor))"
   ]
  },
  {
   "cell_type": "markdown",
   "id": "6003e90e",
   "metadata": {},
   "source": [
    "## Pangkat"
   ]
  },
  {
   "cell_type": "code",
   "execution_count": 31,
   "id": "35c778ba",
   "metadata": {},
   "outputs": [
    {
     "name": "stdout",
     "output_type": "stream",
     "text": [
      "tf.Tensor(\n",
      "[[ 1.0488846e-01  9.7423530e-01  5.4250133e-05  4.9694390e+00\n",
      "   9.9160073e-12]\n",
      " [ 4.1572837e-10 -6.1216887e-10 -3.7746809e+04  1.8296565e+06\n",
      "  -6.2446387e+08]\n",
      " [-1.4524903e+05 -7.3881514e+03 -3.8406979e-05  7.2277203e-02\n",
      "  -0.0000000e+00]\n",
      " [-8.0235882e+16  3.2477805e-13 -7.3011604e+09 -3.2266942e-04\n",
      "  -9.5127881e-02]\n",
      " [ 2.0780388e-02 -4.3403966e-13  5.3885902e-23 -2.7460855e-25\n",
      "  -2.6379033e+29]], shape=(5, 5), dtype=float32)\n"
     ]
    }
   ],
   "source": [
    "print(tf.pow(random_tensor, prime_tensor))"
   ]
  },
  {
   "cell_type": "markdown",
   "id": "ead24bbb",
   "metadata": {},
   "source": [
    "## logaritma"
   ]
  },
  {
   "cell_type": "code",
   "execution_count": 41,
   "id": "153f4c48",
   "metadata": {
    "scrolled": true
   },
   "outputs": [
    {
     "name": "stdout",
     "output_type": "stream",
     "text": [
      "tf.Tensor(\n",
      "[[        nan -0.0087008  -1.964381    0.22904386 -2.3033519 ]\n",
      " [-1.6616145          nan         nan  0.62694085         nan]\n",
      " [        nan         nan         nan -0.06109876         nan]\n",
      " [        nan -0.48738366         nan         nan         nan]\n",
      " [-0.05306501         nan -0.6177732          nan         nan]], shape=(5, 5), dtype=float32)\n"
     ]
    }
   ],
   "source": [
    "print(tf.math.log(random_tensor, prime_tensor))"
   ]
  },
  {
   "cell_type": "markdown",
   "id": "a374d875",
   "metadata": {},
   "source": [
    "## Menampilkan nilai Min Max  dari variable random_tensor"
   ]
  },
  {
   "cell_type": "markdown",
   "id": "6065d5ff",
   "metadata": {},
   "source": [
    "## Max"
   ]
  },
  {
   "cell_type": "code",
   "execution_count": 42,
   "id": "c6d70b19",
   "metadata": {
    "scrolled": true
   },
   "outputs": [
    {
     "name": "stdout",
     "output_type": "stream",
     "text": [
      "tf.Tensor([4 0 4 1 0], shape=(5,), dtype=int64)\n"
     ]
    }
   ],
   "source": [
    "print(tf.argmax(random_tensor, axis=0))"
   ]
  },
  {
   "cell_type": "code",
   "execution_count": 43,
   "id": "50e2a2de",
   "metadata": {},
   "outputs": [
    {
     "name": "stdout",
     "output_type": "stream",
     "text": [
      "tf.Tensor(\n",
      "[[0 4 2 1 3]\n",
      " [4 2 1 0 3]\n",
      " [0 1 2 4 3]\n",
      " [0 2 4 3 1]\n",
      " [4 1 3 2 0]], shape=(5, 5), dtype=int32)\n"
     ]
    }
   ],
   "source": [
    "print(tf.argsort(random_tensor, direction='ASCENDING'))"
   ]
  },
  {
   "cell_type": "markdown",
   "id": "26db8896",
   "metadata": {},
   "source": [
    "## Min"
   ]
  },
  {
   "cell_type": "code",
   "execution_count": 44,
   "id": "9620770f",
   "metadata": {},
   "outputs": [
    {
     "name": "stdout",
     "output_type": "stream",
     "text": [
      "tf.Tensor([3 2 1 3 4], shape=(5,), dtype=int64)\n"
     ]
    }
   ],
   "source": [
    "print(tf.argmin(random_tensor, axis=0))"
   ]
  },
  {
   "cell_type": "code",
   "execution_count": 45,
   "id": "043dc79b",
   "metadata": {},
   "outputs": [
    {
     "name": "stdout",
     "output_type": "stream",
     "text": [
      "tf.Tensor(\n",
      "[[0 4 2 1 3]\n",
      " [4 2 1 0 3]\n",
      " [0 1 2 4 3]\n",
      " [0 2 4 3 1]\n",
      " [4 1 3 2 0]], shape=(5, 5), dtype=int32)\n"
     ]
    }
   ],
   "source": [
    "print(tf.argsort(random_tensor, direction='ASCENDING'))"
   ]
  },
  {
   "cell_type": "code",
   "execution_count": 46,
   "id": "82399e61",
   "metadata": {},
   "outputs": [
    {
     "name": "stdout",
     "output_type": "stream",
     "text": [
      "tf.Tensor([0 4 0 0 4], shape=(5,), dtype=int64)\n"
     ]
    }
   ],
   "source": [
    "print(tf.argmin(random_tensor, axis=1))"
   ]
  },
  {
   "cell_type": "code",
   "execution_count": 47,
   "id": "fe23ce49",
   "metadata": {},
   "outputs": [
    {
     "name": "stdout",
     "output_type": "stream",
     "text": [
      "tf.Tensor(\n",
      "[[-0.32386488  0.09992335  0.14024267  0.99133694  1.2573972 ]\n",
      " [-2.0104504  -1.7413595  -0.28711194  0.18983224  1.8718754 ]\n",
      " [-1.4673029  -1.2721989  -0.7803738  -0.06164822  0.94073033]\n",
      " [-2.0842526  -1.451092   -0.96740866 -0.88693523  0.61423135]\n",
      " [-2.0105364  -0.6974499  -0.52970064  0.5391437   0.94831836]], shape=(5, 5), dtype=float32)\n"
     ]
    }
   ],
   "source": [
    "print(tf.sort(random_tensor, direction='ASCENDING'))"
   ]
  },
  {
   "cell_type": "markdown",
   "id": "5e338520",
   "metadata": {},
   "source": [
    "## Menampilkan Nilai concatenation"
   ]
  },
  {
   "cell_type": "code",
   "execution_count": 39,
   "id": "6c81e05e",
   "metadata": {},
   "outputs": [
    {
     "name": "stdout",
     "output_type": "stream",
     "text": [
      "size original data :  (5, 5) (5, 5)\n",
      "size concat data :  (5, 5)\n"
     ]
    }
   ],
   "source": [
    "print(\"size original data : \",prime_tensor.shape,random_tensor.shape)\n",
    "list_prima_tensor = tf.concat([prime_tensor,random_tensor],axis=0)\n",
    "print(\"size concat data : \",prime_tensor.shape)"
   ]
  },
  {
   "cell_type": "markdown",
   "id": "6b2c28da",
   "metadata": {},
   "source": [
    "## Menampilkan hasil dari kedua variable di atas(Descending)"
   ]
  },
  {
   "cell_type": "code",
   "execution_count": 40,
   "id": "d3f83094",
   "metadata": {},
   "outputs": [
    {
     "data": {
      "text/plain": [
       "<tf.Tensor: shape=(5, 5), dtype=float32, numpy=\n",
       "array([[11.,  7.,  5.,  3.,  2.],\n",
       "       [29., 23., 19., 17., 13.],\n",
       "       [47., 43., 41., 37., 31.],\n",
       "       [71., 67., 61., 59., 53.],\n",
       "       [97., 89., 83., 79., 73.]], dtype=float32)>"
      ]
     },
     "execution_count": 40,
     "metadata": {},
     "output_type": "execute_result"
    }
   ],
   "source": [
    "tf.sort(random_tensor, direction=\"DESCENDING\")\n",
    "tf.sort(prime_tensor, direction=\"DESCENDING\")"
   ]
  },
  {
   "cell_type": "code",
   "execution_count": null,
   "id": "ddde687b",
   "metadata": {},
   "outputs": [],
   "source": []
  }
 ],
 "metadata": {
  "kernelspec": {
   "display_name": "Python 3 (ipykernel)",
   "language": "python",
   "name": "python3"
  },
  "language_info": {
   "codemirror_mode": {
    "name": "ipython",
    "version": 3
   },
   "file_extension": ".py",
   "mimetype": "text/x-python",
   "name": "python",
   "nbconvert_exporter": "python",
   "pygments_lexer": "ipython3",
   "version": "3.10.7"
  }
 },
 "nbformat": 4,
 "nbformat_minor": 5
}
