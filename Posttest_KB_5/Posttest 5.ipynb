{
 "cells": [
  {
   "cell_type": "markdown",
   "id": "cefd83e8",
   "metadata": {},
   "source": [
    "## Posttest 5 "
   ]
  },
  {
   "cell_type": "code",
   "execution_count": 1,
   "id": "b871143b",
   "metadata": {},
   "outputs": [],
   "source": [
    "import pandas as pd\n",
    "import seaborn as sns"
   ]
  },
  {
   "cell_type": "code",
   "execution_count": 2,
   "id": "bf4b3419",
   "metadata": {},
   "outputs": [],
   "source": [
    "df = pd.read_csv(\"songs_normalize.csv\")"
   ]
  },
  {
   "cell_type": "code",
   "execution_count": 3,
   "id": "32a6d1ee",
   "metadata": {},
   "outputs": [
    {
     "data": {
      "text/html": [
       "<div>\n",
       "<style scoped>\n",
       "    .dataframe tbody tr th:only-of-type {\n",
       "        vertical-align: middle;\n",
       "    }\n",
       "\n",
       "    .dataframe tbody tr th {\n",
       "        vertical-align: top;\n",
       "    }\n",
       "\n",
       "    .dataframe thead th {\n",
       "        text-align: right;\n",
       "    }\n",
       "</style>\n",
       "<table border=\"1\" class=\"dataframe\">\n",
       "  <thead>\n",
       "    <tr style=\"text-align: right;\">\n",
       "      <th></th>\n",
       "      <th>artist</th>\n",
       "      <th>song</th>\n",
       "      <th>duration_ms</th>\n",
       "      <th>explicit</th>\n",
       "      <th>year</th>\n",
       "      <th>popularity</th>\n",
       "      <th>danceability</th>\n",
       "      <th>energy</th>\n",
       "      <th>key</th>\n",
       "      <th>loudness</th>\n",
       "      <th>mode</th>\n",
       "      <th>speechiness</th>\n",
       "      <th>acousticness</th>\n",
       "      <th>instrumentalness</th>\n",
       "      <th>liveness</th>\n",
       "      <th>valence</th>\n",
       "      <th>tempo</th>\n",
       "      <th>genre</th>\n",
       "    </tr>\n",
       "  </thead>\n",
       "  <tbody>\n",
       "    <tr>\n",
       "      <th>0</th>\n",
       "      <td>Britney Spears</td>\n",
       "      <td>Oops!...I Did It Again</td>\n",
       "      <td>211160</td>\n",
       "      <td>False</td>\n",
       "      <td>2000</td>\n",
       "      <td>77</td>\n",
       "      <td>0.751</td>\n",
       "      <td>0.834</td>\n",
       "      <td>1</td>\n",
       "      <td>-5.444</td>\n",
       "      <td>0</td>\n",
       "      <td>0.0437</td>\n",
       "      <td>0.3000</td>\n",
       "      <td>0.000018</td>\n",
       "      <td>0.3550</td>\n",
       "      <td>0.894</td>\n",
       "      <td>95.053</td>\n",
       "      <td>pop</td>\n",
       "    </tr>\n",
       "    <tr>\n",
       "      <th>1</th>\n",
       "      <td>blink-182</td>\n",
       "      <td>All The Small Things</td>\n",
       "      <td>167066</td>\n",
       "      <td>False</td>\n",
       "      <td>1999</td>\n",
       "      <td>79</td>\n",
       "      <td>0.434</td>\n",
       "      <td>0.897</td>\n",
       "      <td>0</td>\n",
       "      <td>-4.918</td>\n",
       "      <td>1</td>\n",
       "      <td>0.0488</td>\n",
       "      <td>0.0103</td>\n",
       "      <td>0.000000</td>\n",
       "      <td>0.6120</td>\n",
       "      <td>0.684</td>\n",
       "      <td>148.726</td>\n",
       "      <td>rock, pop</td>\n",
       "    </tr>\n",
       "    <tr>\n",
       "      <th>2</th>\n",
       "      <td>Faith Hill</td>\n",
       "      <td>Breathe</td>\n",
       "      <td>250546</td>\n",
       "      <td>False</td>\n",
       "      <td>1999</td>\n",
       "      <td>66</td>\n",
       "      <td>0.529</td>\n",
       "      <td>0.496</td>\n",
       "      <td>7</td>\n",
       "      <td>-9.007</td>\n",
       "      <td>1</td>\n",
       "      <td>0.0290</td>\n",
       "      <td>0.1730</td>\n",
       "      <td>0.000000</td>\n",
       "      <td>0.2510</td>\n",
       "      <td>0.278</td>\n",
       "      <td>136.859</td>\n",
       "      <td>pop, country</td>\n",
       "    </tr>\n",
       "    <tr>\n",
       "      <th>3</th>\n",
       "      <td>Bon Jovi</td>\n",
       "      <td>It's My Life</td>\n",
       "      <td>224493</td>\n",
       "      <td>False</td>\n",
       "      <td>2000</td>\n",
       "      <td>78</td>\n",
       "      <td>0.551</td>\n",
       "      <td>0.913</td>\n",
       "      <td>0</td>\n",
       "      <td>-4.063</td>\n",
       "      <td>0</td>\n",
       "      <td>0.0466</td>\n",
       "      <td>0.0263</td>\n",
       "      <td>0.000013</td>\n",
       "      <td>0.3470</td>\n",
       "      <td>0.544</td>\n",
       "      <td>119.992</td>\n",
       "      <td>rock, metal</td>\n",
       "    </tr>\n",
       "    <tr>\n",
       "      <th>4</th>\n",
       "      <td>*NSYNC</td>\n",
       "      <td>Bye Bye Bye</td>\n",
       "      <td>200560</td>\n",
       "      <td>False</td>\n",
       "      <td>2000</td>\n",
       "      <td>65</td>\n",
       "      <td>0.614</td>\n",
       "      <td>0.928</td>\n",
       "      <td>8</td>\n",
       "      <td>-4.806</td>\n",
       "      <td>0</td>\n",
       "      <td>0.0516</td>\n",
       "      <td>0.0408</td>\n",
       "      <td>0.001040</td>\n",
       "      <td>0.0845</td>\n",
       "      <td>0.879</td>\n",
       "      <td>172.656</td>\n",
       "      <td>pop</td>\n",
       "    </tr>\n",
       "  </tbody>\n",
       "</table>\n",
       "</div>"
      ],
      "text/plain": [
       "           artist                    song  duration_ms  explicit  year  \\\n",
       "0  Britney Spears  Oops!...I Did It Again       211160     False  2000   \n",
       "1       blink-182    All The Small Things       167066     False  1999   \n",
       "2      Faith Hill                 Breathe       250546     False  1999   \n",
       "3        Bon Jovi            It's My Life       224493     False  2000   \n",
       "4          *NSYNC             Bye Bye Bye       200560     False  2000   \n",
       "\n",
       "   popularity  danceability  energy  key  loudness  mode  speechiness  \\\n",
       "0          77         0.751   0.834    1    -5.444     0       0.0437   \n",
       "1          79         0.434   0.897    0    -4.918     1       0.0488   \n",
       "2          66         0.529   0.496    7    -9.007     1       0.0290   \n",
       "3          78         0.551   0.913    0    -4.063     0       0.0466   \n",
       "4          65         0.614   0.928    8    -4.806     0       0.0516   \n",
       "\n",
       "   acousticness  instrumentalness  liveness  valence    tempo         genre  \n",
       "0        0.3000          0.000018    0.3550    0.894   95.053           pop  \n",
       "1        0.0103          0.000000    0.6120    0.684  148.726     rock, pop  \n",
       "2        0.1730          0.000000    0.2510    0.278  136.859  pop, country  \n",
       "3        0.0263          0.000013    0.3470    0.544  119.992   rock, metal  \n",
       "4        0.0408          0.001040    0.0845    0.879  172.656           pop  "
      ]
     },
     "execution_count": 3,
     "metadata": {},
     "output_type": "execute_result"
    }
   ],
   "source": [
    "df.head()"
   ]
  },
  {
   "cell_type": "markdown",
   "id": "fcf634ea",
   "metadata": {},
   "source": [
    "## Kolom Yang Akan Menjadi Patokan Nilai"
   ]
  },
  {
   "cell_type": "code",
   "execution_count": 4,
   "id": "2976b2df",
   "metadata": {},
   "outputs": [
    {
     "data": {
      "text/plain": [
       "array(['pop', 'rock, pop', 'pop, country', 'rock, metal',\n",
       "       'hip hop, pop, R&B', 'hip hop', 'pop, rock', 'pop, R&B',\n",
       "       'Dance/Electronic', 'pop, Dance/Electronic',\n",
       "       'rock, Folk/Acoustic, easy listening', 'metal', 'hip hop, pop',\n",
       "       'R&B', 'pop, latin', 'Folk/Acoustic, rock',\n",
       "       'pop, easy listening, Dance/Electronic', 'rock',\n",
       "       'rock, blues, latin', 'pop, rock, metal', 'rock, pop, metal',\n",
       "       'hip hop, R&B', 'pop, Folk/Acoustic', 'set()',\n",
       "       'hip hop, pop, latin', 'hip hop, Dance/Electronic',\n",
       "       'hip hop, pop, rock', 'World/Traditional, Folk/Acoustic',\n",
       "       'Folk/Acoustic, pop', 'rock, easy listening',\n",
       "       'World/Traditional, hip hop', 'hip hop, pop, R&B, latin',\n",
       "       'rock, blues', 'rock, R&B, Folk/Acoustic, pop', 'latin',\n",
       "       'pop, R&B, Dance/Electronic', 'World/Traditional, rock',\n",
       "       'pop, rock, Dance/Electronic', 'pop, easy listening, jazz',\n",
       "       'rock, Dance/Electronic', 'World/Traditional, pop, Folk/Acoustic',\n",
       "       'country', 'hip hop, pop, Dance/Electronic',\n",
       "       'hip hop, pop, country', 'World/Traditional, rock, pop',\n",
       "       'World/Traditional, pop', 'hip hop, pop, R&B, Dance/Electronic',\n",
       "       'pop, R&B, easy listening', 'rock, pop, Dance/Electronic',\n",
       "       'Folk/Acoustic, rock, pop', 'rock, pop, metal, Dance/Electronic',\n",
       "       'pop, rock, Folk/Acoustic', 'country, latin', 'rock, classical',\n",
       "       'rock, Folk/Acoustic, pop', 'hip hop, rock, pop', 'easy listening',\n",
       "       'hip hop, latin, Dance/Electronic', 'hip hop, country'],\n",
       "      dtype=object)"
      ]
     },
     "execution_count": 4,
     "metadata": {},
     "output_type": "execute_result"
    }
   ],
   "source": [
    "df['genre'].unique()"
   ]
  },
  {
   "cell_type": "markdown",
   "id": "9c3b1921",
   "metadata": {},
   "source": [
    "## Data Splitting"
   ]
  },
  {
   "cell_type": "code",
   "execution_count": 5,
   "id": "cd926cda",
   "metadata": {},
   "outputs": [],
   "source": [
    "X = df[['duration_ms', 'year','popularity', 'danceability', 'loudness', 'key', 'speechiness', 'tempo']]\n",
    "Y = df['genre']"
   ]
  },
  {
   "cell_type": "code",
   "execution_count": 6,
   "id": "67279bea",
   "metadata": {},
   "outputs": [],
   "source": [
    "from sklearn.model_selection import train_test_split"
   ]
  },
  {
   "cell_type": "code",
   "execution_count": 7,
   "id": "65bf40dd",
   "metadata": {},
   "outputs": [],
   "source": [
    "X_train, X_test, Y_train, Y_test = train_test_split(X,Y, test_size=0.2, random_state=0)"
   ]
  },
  {
   "cell_type": "markdown",
   "id": "0be82527",
   "metadata": {},
   "source": [
    "## Menggunakan 3 Algoritma untuk membandingkan score/hasil terbaiknya."
   ]
  },
  {
   "cell_type": "markdown",
   "id": "331a38d8",
   "metadata": {},
   "source": [
    "## 1. Algoritma Naive Bayes"
   ]
  },
  {
   "cell_type": "code",
   "execution_count": 12,
   "id": "d35bca03",
   "metadata": {},
   "outputs": [],
   "source": [
    "from sklearn.naive_bayes import GaussianNB\n",
    "from sklearn.metrics import accuracy_score"
   ]
  },
  {
   "cell_type": "code",
   "execution_count": 13,
   "id": "9d3efe74",
   "metadata": {},
   "outputs": [],
   "source": [
    "NB = GaussianNB().fit(X_train, Y_train)"
   ]
  },
  {
   "cell_type": "code",
   "execution_count": 14,
   "id": "de752a60",
   "metadata": {},
   "outputs": [],
   "source": [
    "NBpredict = NB.predict(X_test)"
   ]
  },
  {
   "cell_type": "code",
   "execution_count": 15,
   "id": "b080c4cc",
   "metadata": {},
   "outputs": [
    {
     "name": "stdout",
     "output_type": "stream",
     "text": [
      "Akurasi dari Gaussian Naive Bayes :\n"
     ]
    },
    {
     "data": {
      "text/plain": [
       "0.1975"
      ]
     },
     "execution_count": 15,
     "metadata": {},
     "output_type": "execute_result"
    }
   ],
   "source": [
    "print(\"Akurasi dari Gaussian Naive Bayes :\")\n",
    "accuracy_score(NBpredict, Y_test)"
   ]
  },
  {
   "cell_type": "markdown",
   "id": "37940e8e",
   "metadata": {},
   "source": [
    "## 2. Algoritma Support Vector Machine "
   ]
  },
  {
   "cell_type": "code",
   "execution_count": 16,
   "id": "5e67ef30",
   "metadata": {},
   "outputs": [],
   "source": [
    "from sklearn.svm import SVC"
   ]
  },
  {
   "cell_type": "code",
   "execution_count": 17,
   "id": "f45061b3",
   "metadata": {},
   "outputs": [],
   "source": [
    "SVC = SVC().fit(X_train, Y_train)\n",
    "SVC_predict = SVC.predict(X_test)"
   ]
  },
  {
   "cell_type": "code",
   "execution_count": 18,
   "id": "808cbff9",
   "metadata": {},
   "outputs": [
    {
     "name": "stdout",
     "output_type": "stream",
     "text": [
      "Akurasi Training menggunakan SVM : 0.216875\n",
      "Akurasi Test menggunakan SVM : 0.195\n"
     ]
    }
   ],
   "source": [
    "print(f'Akurasi Training menggunakan SVM : {SVC.score(X_train, Y_train)}')\n",
    "print(f'Akurasi Test menggunakan SVM : {SVC.score(X_test, Y_test)}')"
   ]
  },
  {
   "cell_type": "markdown",
   "id": "e2a8f92c",
   "metadata": {},
   "source": [
    "## 3. Algoritma K-Nearest Neighbor"
   ]
  },
  {
   "cell_type": "code",
   "execution_count": 19,
   "id": "b81d26ce",
   "metadata": {},
   "outputs": [],
   "source": [
    "from sklearn.neighbors import KNeighborsClassifier"
   ]
  },
  {
   "cell_type": "code",
   "execution_count": 20,
   "id": "6ced1826",
   "metadata": {},
   "outputs": [],
   "source": [
    "modelKNN = KNeighborsClassifier(n_neighbors = 5)"
   ]
  },
  {
   "cell_type": "code",
   "execution_count": 21,
   "id": "c1652336",
   "metadata": {},
   "outputs": [
    {
     "data": {
      "text/html": [
       "<style>#sk-container-id-1 {color: black;background-color: white;}#sk-container-id-1 pre{padding: 0;}#sk-container-id-1 div.sk-toggleable {background-color: white;}#sk-container-id-1 label.sk-toggleable__label {cursor: pointer;display: block;width: 100%;margin-bottom: 0;padding: 0.3em;box-sizing: border-box;text-align: center;}#sk-container-id-1 label.sk-toggleable__label-arrow:before {content: \"▸\";float: left;margin-right: 0.25em;color: #696969;}#sk-container-id-1 label.sk-toggleable__label-arrow:hover:before {color: black;}#sk-container-id-1 div.sk-estimator:hover label.sk-toggleable__label-arrow:before {color: black;}#sk-container-id-1 div.sk-toggleable__content {max-height: 0;max-width: 0;overflow: hidden;text-align: left;background-color: #f0f8ff;}#sk-container-id-1 div.sk-toggleable__content pre {margin: 0.2em;color: black;border-radius: 0.25em;background-color: #f0f8ff;}#sk-container-id-1 input.sk-toggleable__control:checked~div.sk-toggleable__content {max-height: 200px;max-width: 100%;overflow: auto;}#sk-container-id-1 input.sk-toggleable__control:checked~label.sk-toggleable__label-arrow:before {content: \"▾\";}#sk-container-id-1 div.sk-estimator input.sk-toggleable__control:checked~label.sk-toggleable__label {background-color: #d4ebff;}#sk-container-id-1 div.sk-label input.sk-toggleable__control:checked~label.sk-toggleable__label {background-color: #d4ebff;}#sk-container-id-1 input.sk-hidden--visually {border: 0;clip: rect(1px 1px 1px 1px);clip: rect(1px, 1px, 1px, 1px);height: 1px;margin: -1px;overflow: hidden;padding: 0;position: absolute;width: 1px;}#sk-container-id-1 div.sk-estimator {font-family: monospace;background-color: #f0f8ff;border: 1px dotted black;border-radius: 0.25em;box-sizing: border-box;margin-bottom: 0.5em;}#sk-container-id-1 div.sk-estimator:hover {background-color: #d4ebff;}#sk-container-id-1 div.sk-parallel-item::after {content: \"\";width: 100%;border-bottom: 1px solid gray;flex-grow: 1;}#sk-container-id-1 div.sk-label:hover label.sk-toggleable__label {background-color: #d4ebff;}#sk-container-id-1 div.sk-serial::before {content: \"\";position: absolute;border-left: 1px solid gray;box-sizing: border-box;top: 0;bottom: 0;left: 50%;z-index: 0;}#sk-container-id-1 div.sk-serial {display: flex;flex-direction: column;align-items: center;background-color: white;padding-right: 0.2em;padding-left: 0.2em;position: relative;}#sk-container-id-1 div.sk-item {position: relative;z-index: 1;}#sk-container-id-1 div.sk-parallel {display: flex;align-items: stretch;justify-content: center;background-color: white;position: relative;}#sk-container-id-1 div.sk-item::before, #sk-container-id-1 div.sk-parallel-item::before {content: \"\";position: absolute;border-left: 1px solid gray;box-sizing: border-box;top: 0;bottom: 0;left: 50%;z-index: -1;}#sk-container-id-1 div.sk-parallel-item {display: flex;flex-direction: column;z-index: 1;position: relative;background-color: white;}#sk-container-id-1 div.sk-parallel-item:first-child::after {align-self: flex-end;width: 50%;}#sk-container-id-1 div.sk-parallel-item:last-child::after {align-self: flex-start;width: 50%;}#sk-container-id-1 div.sk-parallel-item:only-child::after {width: 0;}#sk-container-id-1 div.sk-dashed-wrapped {border: 1px dashed gray;margin: 0 0.4em 0.5em 0.4em;box-sizing: border-box;padding-bottom: 0.4em;background-color: white;}#sk-container-id-1 div.sk-label label {font-family: monospace;font-weight: bold;display: inline-block;line-height: 1.2em;}#sk-container-id-1 div.sk-label-container {text-align: center;}#sk-container-id-1 div.sk-container {/* jupyter's `normalize.less` sets `[hidden] { display: none; }` but bootstrap.min.css set `[hidden] { display: none !important; }` so we also need the `!important` here to be able to override the default hidden behavior on the sphinx rendered scikit-learn.org. See: https://github.com/scikit-learn/scikit-learn/issues/21755 */display: inline-block !important;position: relative;}#sk-container-id-1 div.sk-text-repr-fallback {display: none;}</style><div id=\"sk-container-id-1\" class=\"sk-top-container\"><div class=\"sk-text-repr-fallback\"><pre>KNeighborsClassifier()</pre><b>In a Jupyter environment, please rerun this cell to show the HTML representation or trust the notebook. <br />On GitHub, the HTML representation is unable to render, please try loading this page with nbviewer.org.</b></div><div class=\"sk-container\" hidden><div class=\"sk-item\"><div class=\"sk-estimator sk-toggleable\"><input class=\"sk-toggleable__control sk-hidden--visually\" id=\"sk-estimator-id-1\" type=\"checkbox\" checked><label for=\"sk-estimator-id-1\" class=\"sk-toggleable__label sk-toggleable__label-arrow\">KNeighborsClassifier</label><div class=\"sk-toggleable__content\"><pre>KNeighborsClassifier()</pre></div></div></div></div></div>"
      ],
      "text/plain": [
       "KNeighborsClassifier()"
      ]
     },
     "execution_count": 21,
     "metadata": {},
     "output_type": "execute_result"
    }
   ],
   "source": [
    "modelKNN.fit(X_train, Y_train)"
   ]
  },
  {
   "cell_type": "code",
   "execution_count": 22,
   "id": "87f62f33",
   "metadata": {
    "scrolled": false
   },
   "outputs": [
    {
     "name": "stdout",
     "output_type": "stream",
     "text": [
      "Akurasi Training menggunakan KNN : 0.403125\n",
      "Akurasi Test menggunakan KNN : 0.155\n"
     ]
    }
   ],
   "source": [
    "print(f'Akurasi Training menggunakan KNN : {modelKNN.score(X_train, Y_train)}')\n",
    "print(f'Akurasi Test menggunakan KNN : {modelKNN.score(X_test, Y_test)}')"
   ]
  },
  {
   "cell_type": "code",
   "execution_count": 24,
   "id": "f735ac85",
   "metadata": {
    "scrolled": true
   },
   "outputs": [
    {
     "name": "stderr",
     "output_type": "stream",
     "text": [
      "C:\\Users\\user\\AppData\\Local\\Programs\\Python\\Python310\\lib\\site-packages\\sklearn\\base.py:450: UserWarning: X does not have valid feature names, but KNeighborsClassifier was fitted with feature names\n",
      "  warnings.warn(\n"
     ]
    },
    {
     "data": {
      "text/plain": [
       "array(['hip hop, pop'], dtype=object)"
      ]
     },
     "execution_count": 24,
     "metadata": {},
     "output_type": "execute_result"
    }
   ],
   "source": [
    "data = [[211160, 2000 , 77 , 0.751 , -5.444 , 1 , 0.0437 , 95.053 ]]\n",
    "test_prediksi = [[200000, 1999 , 78 , 0.529 , -4.918 , 7 , 0.0488 , 148.726 ]]\n",
    "modelKNN.predict(test_prediksi)"
   ]
  },
  {
   "cell_type": "markdown",
   "id": "570b82a3",
   "metadata": {},
   "source": [
    "## Membandingan SCORE dari berbagai Algoritma"
   ]
  },
  {
   "cell_type": "code",
   "execution_count": 40,
   "id": "ba292b89",
   "metadata": {
    "scrolled": true
   },
   "outputs": [
    {
     "name": "stdout",
     "output_type": "stream",
     "text": [
      "----------------------  Naive Bayes -------------------------------\n",
      "Akurasi dari Gaussian Naive Bayes : 0.1975\n",
      "\n",
      "\n",
      "--------------------------- SVM ------------------------------------\n",
      "Akurasi Training menggunakan SVM : 0.216875\n",
      "Akurasi Test menggunakan SVM : 0.195\n",
      "\n",
      "\n",
      "------------------------ K N N ------------------------------------\n",
      "Akurasi Training menggunakan KNN : 0.403125\n",
      "Akurasi Test menggunakan KNN : 0.155\n"
     ]
    }
   ],
   "source": [
    "print(\"----------------------  Naive Bayes -------------------------------\")\n",
    "print(f'Akurasi dari Gaussian Naive Bayes : { accuracy_score(NBpredict, Y_test)}')\n",
    "print(\"\\n\")\n",
    "\n",
    "print(\"--------------------------- SVM ------------------------------------\")\n",
    "print(f'Akurasi Training menggunakan SVM : {SVC.score(X_train, Y_train)}')\n",
    "print(f'Akurasi Test menggunakan SVM : {SVC.score(X_test, Y_test)}')\n",
    "print(\"\\n\")\n",
    "\n",
    "print(\"------------------------ K N N ------------------------------------\")\n",
    "print(f'Akurasi Training menggunakan KNN : {modelKNN.score(X_train, Y_train)}')\n",
    "print(f'Akurasi Test menggunakan KNN : {modelKNN.score(X_test, Y_test)}')\n"
   ]
  },
  {
   "cell_type": "markdown",
   "id": "44a6e41c",
   "metadata": {},
   "source": [
    "## Menampilkan score dari model-model tersebut untuk classification"
   ]
  },
  {
   "cell_type": "code",
   "execution_count": 29,
   "id": "9522a7a0",
   "metadata": {},
   "outputs": [],
   "source": [
    "from sklearn.metrics import classification_report"
   ]
  },
  {
   "cell_type": "code",
   "execution_count": 62,
   "id": "b6ed77c0",
   "metadata": {},
   "outputs": [
    {
     "name": "stdout",
     "output_type": "stream",
     "text": [
      "\t \t     | Naive Bayes |\n",
      "                                       precision    recall  f1-score   support\n",
      "\n",
      "                     Dance/Electronic       0.00      0.00      0.00         8\n",
      "                   Folk/Acoustic, pop       0.00      0.00      0.00         0\n",
      "                                  R&B       0.00      0.00      0.00         3\n",
      "           World/Traditional, hip hop       0.00      0.00      0.00         1\n",
      "World/Traditional, pop, Folk/Acoustic       0.00      0.00      0.00         1\n",
      "              World/Traditional, rock       0.00      0.00      0.00         0\n",
      "         World/Traditional, rock, pop       0.00      0.00      0.00         1\n",
      "                              country       0.00      0.00      0.00         4\n",
      "                              hip hop       0.50      0.12      0.19        25\n",
      "            hip hop, Dance/Electronic       0.00      0.00      0.00         3\n",
      "                         hip hop, R&B       0.00      0.00      0.00         0\n",
      "                         hip hop, pop       0.24      0.21      0.22        56\n",
      "       hip hop, pop, Dance/Electronic       0.13      0.25      0.17        16\n",
      "                    hip hop, pop, R&B       0.24      0.29      0.27        51\n",
      "             hip hop, pop, R&B, latin       0.00      0.00      0.00         0\n",
      "                  hip hop, pop, latin       0.00      0.00      0.00         2\n",
      "                   hip hop, pop, rock       0.00      0.00      0.00         3\n",
      "                                latin       0.00      0.00      0.00         3\n",
      "                                metal       0.00      0.00      0.00         1\n",
      "                                  pop       0.18      0.34      0.23        80\n",
      "                pop, Dance/Electronic       0.33      0.25      0.29        48\n",
      "                   pop, Folk/Acoustic       0.00      0.00      0.00         2\n",
      "                             pop, R&B       0.13      0.12      0.13        32\n",
      "           pop, R&B, Dance/Electronic       0.00      0.00      0.00         2\n",
      "                         pop, country       0.00      0.00      0.00         2\n",
      "            pop, easy listening, jazz       0.00      0.00      0.00         1\n",
      "                           pop, latin       0.00      0.00      0.00         2\n",
      "                            pop, rock       0.00      0.00      0.00         7\n",
      "          pop, rock, Dance/Electronic       0.00      0.00      0.00         3\n",
      "             pop, rock, Folk/Acoustic       0.00      0.00      0.00         1\n",
      "                     pop, rock, metal       0.00      0.00      0.00         3\n",
      "                                 rock       0.00      0.00      0.00        13\n",
      "                          rock, blues       0.00      0.00      0.00         1\n",
      "                      rock, classical       0.00      0.00      0.00         1\n",
      "                          rock, metal       0.12      0.25      0.16         8\n",
      "                            rock, pop       0.00      0.00      0.00         8\n",
      "          rock, pop, Dance/Electronic       0.00      0.00      0.00         1\n",
      "                     rock, pop, metal       0.00      0.00      0.00         1\n",
      "   rock, pop, metal, Dance/Electronic       0.00      0.00      0.00         1\n",
      "                                set()       0.00      0.00      0.00         5\n",
      "\n",
      "                             accuracy                           0.20       400\n",
      "                            macro avg       0.05      0.05      0.04       400\n",
      "                         weighted avg       0.19      0.20      0.18       400\n",
      "\n",
      "\n",
      "\n",
      "=======================================================================\n",
      "\t \t \t    | SVM |\n",
      "                                       precision    recall  f1-score   support\n",
      "\n",
      "                     Dance/Electronic       0.00      0.00      0.00         8\n",
      "                                  R&B       0.00      0.00      0.00         3\n",
      "           World/Traditional, hip hop       0.00      0.00      0.00         1\n",
      "World/Traditional, pop, Folk/Acoustic       0.00      0.00      0.00         1\n",
      "         World/Traditional, rock, pop       0.00      0.00      0.00         1\n",
      "                              country       0.00      0.00      0.00         4\n",
      "                              hip hop       0.00      0.00      0.00        25\n",
      "            hip hop, Dance/Electronic       0.00      0.00      0.00         3\n",
      "                         hip hop, pop       0.00      0.00      0.00        56\n",
      "       hip hop, pop, Dance/Electronic       0.00      0.00      0.00        16\n",
      "                    hip hop, pop, R&B       0.00      0.00      0.00        51\n",
      "                  hip hop, pop, latin       0.00      0.00      0.00         2\n",
      "                   hip hop, pop, rock       0.00      0.00      0.00         3\n",
      "                                latin       0.00      0.00      0.00         3\n",
      "                                metal       0.00      0.00      0.00         1\n",
      "                                  pop       0.20      0.97      0.33        80\n",
      "                pop, Dance/Electronic       0.00      0.00      0.00        48\n",
      "                   pop, Folk/Acoustic       0.00      0.00      0.00         2\n",
      "                             pop, R&B       0.00      0.00      0.00        32\n",
      "           pop, R&B, Dance/Electronic       0.00      0.00      0.00         2\n",
      "                         pop, country       0.00      0.00      0.00         2\n",
      "            pop, easy listening, jazz       0.00      0.00      0.00         1\n",
      "                           pop, latin       0.00      0.00      0.00         2\n",
      "                            pop, rock       0.00      0.00      0.00         7\n",
      "          pop, rock, Dance/Electronic       0.00      0.00      0.00         3\n",
      "             pop, rock, Folk/Acoustic       0.00      0.00      0.00         1\n",
      "                     pop, rock, metal       0.00      0.00      0.00         3\n",
      "                                 rock       0.00      0.00      0.00        13\n",
      "                          rock, blues       0.00      0.00      0.00         1\n",
      "                      rock, classical       0.00      0.00      0.00         1\n",
      "                          rock, metal       0.00      0.00      0.00         8\n",
      "                            rock, pop       0.00      0.00      0.00         8\n",
      "          rock, pop, Dance/Electronic       0.00      0.00      0.00         1\n",
      "                     rock, pop, metal       0.00      0.00      0.00         1\n",
      "   rock, pop, metal, Dance/Electronic       0.00      0.00      0.00         1\n",
      "                                set()       0.00      0.00      0.00         5\n",
      "\n",
      "                             accuracy                           0.20       400\n",
      "                            macro avg       0.01      0.03      0.01       400\n",
      "                         weighted avg       0.04      0.20      0.07       400\n",
      "\n"
     ]
    },
    {
     "name": "stderr",
     "output_type": "stream",
     "text": [
      "C:\\Users\\user\\AppData\\Local\\Programs\\Python\\Python310\\lib\\site-packages\\sklearn\\metrics\\_classification.py:1334: UndefinedMetricWarning: Precision and F-score are ill-defined and being set to 0.0 in labels with no predicted samples. Use `zero_division` parameter to control this behavior.\n",
      "  _warn_prf(average, modifier, msg_start, len(result))\n",
      "C:\\Users\\user\\AppData\\Local\\Programs\\Python\\Python310\\lib\\site-packages\\sklearn\\metrics\\_classification.py:1334: UndefinedMetricWarning: Recall and F-score are ill-defined and being set to 0.0 in labels with no true samples. Use `zero_division` parameter to control this behavior.\n",
      "  _warn_prf(average, modifier, msg_start, len(result))\n",
      "C:\\Users\\user\\AppData\\Local\\Programs\\Python\\Python310\\lib\\site-packages\\sklearn\\metrics\\_classification.py:1334: UndefinedMetricWarning: Precision and F-score are ill-defined and being set to 0.0 in labels with no predicted samples. Use `zero_division` parameter to control this behavior.\n",
      "  _warn_prf(average, modifier, msg_start, len(result))\n",
      "C:\\Users\\user\\AppData\\Local\\Programs\\Python\\Python310\\lib\\site-packages\\sklearn\\metrics\\_classification.py:1334: UndefinedMetricWarning: Recall and F-score are ill-defined and being set to 0.0 in labels with no true samples. Use `zero_division` parameter to control this behavior.\n",
      "  _warn_prf(average, modifier, msg_start, len(result))\n",
      "C:\\Users\\user\\AppData\\Local\\Programs\\Python\\Python310\\lib\\site-packages\\sklearn\\metrics\\_classification.py:1334: UndefinedMetricWarning: Precision and F-score are ill-defined and being set to 0.0 in labels with no predicted samples. Use `zero_division` parameter to control this behavior.\n",
      "  _warn_prf(average, modifier, msg_start, len(result))\n",
      "C:\\Users\\user\\AppData\\Local\\Programs\\Python\\Python310\\lib\\site-packages\\sklearn\\metrics\\_classification.py:1334: UndefinedMetricWarning: Recall and F-score are ill-defined and being set to 0.0 in labels with no true samples. Use `zero_division` parameter to control this behavior.\n",
      "  _warn_prf(average, modifier, msg_start, len(result))\n",
      "C:\\Users\\user\\AppData\\Local\\Programs\\Python\\Python310\\lib\\site-packages\\sklearn\\metrics\\_classification.py:1334: UndefinedMetricWarning: Precision and F-score are ill-defined and being set to 0.0 in labels with no predicted samples. Use `zero_division` parameter to control this behavior.\n",
      "  _warn_prf(average, modifier, msg_start, len(result))\n",
      "C:\\Users\\user\\AppData\\Local\\Programs\\Python\\Python310\\lib\\site-packages\\sklearn\\metrics\\_classification.py:1334: UndefinedMetricWarning: Precision and F-score are ill-defined and being set to 0.0 in labels with no predicted samples. Use `zero_division` parameter to control this behavior.\n",
      "  _warn_prf(average, modifier, msg_start, len(result))\n",
      "C:\\Users\\user\\AppData\\Local\\Programs\\Python\\Python310\\lib\\site-packages\\sklearn\\metrics\\_classification.py:1334: UndefinedMetricWarning: Precision and F-score are ill-defined and being set to 0.0 in labels with no predicted samples. Use `zero_division` parameter to control this behavior.\n",
      "  _warn_prf(average, modifier, msg_start, len(result))\n"
     ]
    }
   ],
   "source": [
    "print(\"\\t \\t     | Naive Bayes |\")\n",
    "print(classification_report (Y_test, NBpredict))\n",
    "print(\"\\n\")\n",
    "print(\"=======================================================================\")\n",
    "print(\"\\t \\t \\t    | SVM |\")\n",
    "print(classification_report (Y_test, SVC_predict))"
   ]
  },
  {
   "cell_type": "code",
   "execution_count": null,
   "id": "9292ed69",
   "metadata": {},
   "outputs": [],
   "source": []
  }
 ],
 "metadata": {
  "kernelspec": {
   "display_name": "Python 3 (ipykernel)",
   "language": "python",
   "name": "python3"
  },
  "language_info": {
   "codemirror_mode": {
    "name": "ipython",
    "version": 3
   },
   "file_extension": ".py",
   "mimetype": "text/x-python",
   "name": "python",
   "nbconvert_exporter": "python",
   "pygments_lexer": "ipython3",
   "version": "3.10.7"
  }
 },
 "nbformat": 4,
 "nbformat_minor": 5
}
